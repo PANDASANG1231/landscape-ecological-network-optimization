{
 "cells": [
  {
   "cell_type": "code",
   "execution_count": 1,
   "metadata": {},
   "outputs": [],
   "source": [
    "from network_analysis import *\n",
    "\n",
    "import numpy as np\n",
    "import pandas as pd\n",
    "import seaborn as sns\n",
    "import plotly.io as pio\n",
    "pio.renderers.default = \"svg\"\n",
    "import matplotlib.pyplot as plt\n"
   ]
  },
  {
   "cell_type": "code",
   "execution_count": 2,
   "metadata": {},
   "outputs": [],
   "source": [
    "data_dir = \"./../history/2.4.3/\"\n",
    "\n",
    "edges = pd.read_excel(data_dir + \"edges.xls\").fillna(\"\")\n",
    "nodes = pd.read_excel(data_dir + \"nodes.xls\")\n",
    "\n",
    "node_list = nodes[\"斑块编号\"].values\n",
    "\n",
    "edges_list = []\n",
    "for idx, i in edges.iterrows():\n",
    "    if i[\"途径斑块1编号\"] == \"\" and i[\"途径斑块2编号\"] == \"\":\n",
    "        edges_list.append([int(i[\"起点斑块编号\"]), int(i[\"终点斑块编号\"])])\n",
    "    elif i[\"途径斑块2编号\"] == \"\":\n",
    "        edges_list.append([i[\"起点斑块编号\"], int(i[\"途径斑块1编号\"])])\n",
    "        edges_list.append([int(i[\"途径斑块1编号\"]), i[\"终点斑块编号\"]])\n",
    "    else:\n",
    "        edges_list.append([i[\"起点斑块编号\"], int(i[\"途径斑块2编号\"])])\n",
    "        edges_list.append([int(i[\"途径斑块2编号\"]), int(i[\"途径斑块1编号\"])])\n",
    "        edges_list.append([int(i[\"途径斑块1编号\"]), i[\"终点斑块编号\"]])\n",
    "\n",
    "E_list = nodes[\"MESC指数\"].values"
   ]
  },
  {
   "cell_type": "code",
   "execution_count": 3,
   "metadata": {},
   "outputs": [
    {
     "data": {
      "image/png": "[encoded data removed]",
      "text/plain": [
       "<Figure size 720x504 with 2 Axes>"
      ]
     },
     "metadata": {
      "needs_background": "light"
     },
     "output_type": "display_data"
    }
   ],
   "source": [
    "G = generate_graph(node_list, edges_list)\n",
    "\n",
    "df_rst = pd.DataFrame([], index=node_list, columns=node_list)\n",
    "one_div_one_plus_dk = calculate_distance(nodes)\n",
    "\n",
    "for i in node_list:\n",
    "    for j in node_list:\n",
    "        if i != j:\n",
    "            val = calculate_ITSI(G, i, j, one_div_one_plus_dk, E_list)\n",
    "            df_rst.loc[i, j] = val\n",
    "\n",
    "fig, ax = plt.subplots(1, 1, figsize=(10, 7))\n",
    "ax = sns.heatmap(df_rst.fillna(0), linewidth=0.001)\n",
    "ax.set_title(\"Heatmap of ITSI\", fontsize=20)\n",
    "fig.savefig(\"./../results/2.4.3/Heatmap_of_ITSI.png\")\n"
   ]
  },
  {
   "cell_type": "code",
   "execution_count": 4,
   "metadata": {},
   "outputs": [
    {
     "name": "stdout",
     "output_type": "stream",
     "text": [
      "Graph with 43 nodes and 19 edges darkred\n",
      "Graph with 43 nodes and 19 edges darkblue\n",
      "Graph with 43 nodes and 19 edges darkcyan\n",
      "Graph with 43 nodes and 19 edges darkgoldenrod\n",
      "Graph with 43 nodes and 19 edges grey\n"
     ]
    }
   ],
   "source": [
    "df_rst = pd.read_excel(\"./../results/2.4.3/result_rank_new.xls\")\n",
    "\n",
    "df_rst_rk1 = df_rst.query(\"rank<=11 & rank>=1\")\n",
    "G1 = gen_new_graph(df_rst_rk1)\n",
    "df_rst_rk2 = df_rst.query(\"rank<=50 & rank>=12\")\n",
    "G2 = gen_new_graph(df_rst_rk2)\n",
    "df_rst_rk3 = df_rst.query(\"rank<=152 & rank>=51\")\n",
    "G3 = gen_new_graph(df_rst_rk3)\n",
    "df_rst_rk4 = df_rst.query(\"rank<=332 & rank>=153\")\n",
    "G4 = gen_new_graph(df_rst_rk4)\n",
    "df_rst_rk5 = df_rst.query(\"rank<=902 & rank>=333\")\n",
    "G5 = gen_new_graph(df_rst_rk5)\n",
    "\n",
    "\n",
    "fig = plot_network_graph(G, nodes)\n",
    "fig.write_image(f\"./../results/2.4.3/landscape_origin.png\")\n",
    "\n",
    "idx = 1\n",
    "for G_new, color in zip([G1, G2, G3, G4, G5], ['darkred', 'darkblue', 'darkcyan', 'darkgoldenrod', 'grey']):\n",
    "    print(G, color)\n",
    "    fig = add_graph(fig, G_new, nodes, color=color)\n",
    "    fig.write_image(f\"./../results/2.4.3/landscape_add_{idx}.png\")\n",
    "    idx += 1\n"
   ]
  },
  {
   "cell_type": "code",
   "execution_count": 5,
   "metadata": {},
   "outputs": [],
   "source": [
    "import networkx as nx\n",
    "\n",
    "def diameter(G):\n",
    "    diam = []\n",
    "    for g in nx.connected_components(G):\n",
    "        g = G.subgraph(g) \n",
    "        diam.append(nx.diameter(g))\n",
    "    return max(diam)\n",
    "\n",
    "def avg_path_len(G):\n",
    "    avg_len = []\n",
    "    nums_nodes = []\n",
    "    for g in nx.connected_components(G):\n",
    "        g = G.subgraph(g) \n",
    "        avg_len.append(nx.average_shortest_path_length(g))\n",
    "        nums_nodes.append(nx.number_of_nodes(g))\n",
    "        \n",
    "    len_ = np.sum([x*y*(y-1)/2 for x,y in zip(avg_len, nums_nodes)]) / np.sum([x*(x-1)/2 for x in nums_nodes])\n",
    "    \n",
    "    return len_\n",
    "\n",
    "def merge_graph(G, H):\n",
    "    U=nx.Graph()\n",
    "    U.add_edges_from(list(G.edges()) + list(H.edges()))\n",
    "    U.add_nodes_from(list(G.nodes()) + list(H.nodes())) \n",
    "    return U\n",
    "\n",
    "rst = []\n",
    "G_total = nx.Graph()\n",
    "\n",
    "for g in [G, G1, G2, G3, G4, G5]:\n",
    "    \n",
    "    G_total = merge_graph(G_total, g)\n",
    "    nodes_num = nx.number_of_nodes(G_total)\n",
    "    edges_num = nx.number_of_edges(G_total)\n",
    "    clustering = nx.average_clustering(G_total)\n",
    "    avg_degree = np.mean(list(dict(nx.degree(G_total)).values()))\n",
    "    diam = diameter(G_total)\n",
    "    avg_len = avg_path_len(G_total)\n",
    "    component_num = nx.number_connected_components(G_total)\n",
    "\n",
    "    rst.append([nodes_num, edges_num, diam, avg_degree, clustering, avg_len, component_num])\n",
    "\n",
    "rst = pd.DataFrame(rst, columns=[\"网络节点数\", \"网络连接数\", \"网络直径\", \"网络平均度\", \"网络平均路径长度\", \"网络聚类系数\", \"网络连通分量个数\"])\n",
    "rst.to_csv(\"./../results/2.4.3/network_statistic.csv\", index=False)"
   ]
  }
 ],
 "metadata": {
  "interpreter": {
   "hash": "414fe57d044de946bf9d041c0416f862a87762676867e6c6ae283eee01bd4dcc"
  },
  "kernelspec": {
   "display_name": "Python 3.9.12 ('base')",
   "language": "python",
   "name": "python3"
  },
  "language_info": {
   "codemirror_mode": {
    "name": "ipython",
    "version": 3
   },
   "file_extension": ".py",
   "mimetype": "text/x-python",
   "name": "python",
   "nbconvert_exporter": "python",
   "pygments_lexer": "ipython3",
   "version": "3.9.12"
  },
  "orig_nbformat": 4
 },
 "nbformat": 4,
 "nbformat_minor": 2
}
