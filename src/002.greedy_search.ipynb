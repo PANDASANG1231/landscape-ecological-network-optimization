{
 "cells": [
  {
   "cell_type": "code",
   "execution_count": 2,
   "metadata": {},
   "outputs": [],
   "source": [
    "import numpy as np\n",
    "import pandas as pd\n"
   ]
  },
  {
   "cell_type": "code",
   "execution_count": 162,
   "metadata": {},
   "outputs": [],
   "source": [
    "DIRECTIONS = {\n",
    "    \"r\": (1, 0),\n",
    "    \"rb\": (1, 1),\n",
    "    \"b\": (0, 1),\n",
    "    \"bl\": (-1, 1),\n",
    "    \"l\": (-1, 0),\n",
    "    \"lt\": (-1, -1),\n",
    "    \"t\": (0, -1),\n",
    "    \"tr\": (1, -1),\n",
    "}\n",
    "\n",
    "def move(start, direction):\n",
    "    return [x + y for x, y in zip(start, direction)]\n",
    "\n",
    "# move(start_point, DIRECTIONS[\"rb\"])\n",
    "def get_direction(start, end):\n",
    "    \n",
    "    start_x, start_y = start\n",
    "    end_x, end_y = end\n",
    "    \n",
    "    if end_x > start_x and end_y > start_y:\n",
    "        directions = [DIRECTIONS[\"r\"], DIRECTIONS[\"rb\"], DIRECTIONS[\"b\"]]\n",
    "    elif end_x > start_x and end_y == start_y:\n",
    "        directions = [DIRECTIONS[\"tr\"], DIRECTIONS[\"r\"], DIRECTIONS[\"rb\"]]\n",
    "    elif end_x > start_x and end_y < start_y:\n",
    "        directions = [DIRECTIONS[\"t\"], DIRECTIONS[\"tr\"], DIRECTIONS[\"r\"]]\n",
    "    elif end_x == start_x and end_y < start_y:\n",
    "        directions = [DIRECTIONS[\"lt\"], DIRECTIONS[\"t\"], DIRECTIONS[\"tr\"]]\n",
    "    elif end_x < start_x and end_y < start_y:\n",
    "        directions = [DIRECTIONS[\"l\"], DIRECTIONS[\"lt\"], DIRECTIONS[\"t\"]]\n",
    "    elif end_x < start_x and end_y == start_y:\n",
    "        directions = [DIRECTIONS[\"bl\"], DIRECTIONS[\"l\"], DIRECTIONS[\"lt\"]]\n",
    "    elif end_x < start_x and end_y > start_y:\n",
    "        directions = [DIRECTIONS[\"b\"], DIRECTIONS[\"bl\"], DIRECTIONS[\"l\"]]\n",
    "    elif end_x == start_x and end_y > start_y:\n",
    "        directions = [DIRECTIONS[\"rb\"], DIRECTIONS[\"b\"], DIRECTIONS[\"bl\"]]\n",
    "        \n",
    "    return [move(start, direct) for direct in directions]\n",
    "\n",
    "def __serialize(cords):\n",
    "    return \",\".join([str(x) for x in cords])\n",
    "\n",
    "def __deserialize(cords_str):\n",
    "    return tuple(cords_str.split(\",\"))\n",
    "\n",
    "def __check_valid(cords):\n",
    "    return True\n",
    "\n",
    "def add_visited(cords, visited=set()):\n",
    "    cords_str = __serialize(cords)\n",
    "    visited.add(cords_str)\n",
    "    return visited\n",
    "\n",
    "\n",
    "\n",
    "def filter_pos_by_minvalue(feats_array, cords):\n",
    "    feats_selected = np.array([feats_array[x,y] for x, y in cords])\n",
    "    # feats_selected = np.array([1,1,1])\n",
    "    mask = (feats_selected == feats_selected.min())\n",
    "\n",
    "    if mask.sum() == 1:\n",
    "        next_idx = [feats_selected.argmin()]\n",
    "    else:\n",
    "        next_idx = [idx for idx, val in enumerate(mask) if val]\n",
    "    \n",
    "    return [cords[idx] for idx in next_idx]\n",
    "\n",
    "\n",
    "def filter_pos_by_mindist(end, cords):\n",
    "    \n",
    "    rst = []\n",
    "    for vec in cords:\n",
    "        dist = sum([(x-y)**2 for x,y in zip(vec, end)])\n",
    "        rst += [dist]\n",
    "    rst = np.array(rst)\n",
    "        \n",
    "    mask = (rst == rst.min())\n",
    "\n",
    "    if mask.sum() == 1:\n",
    "        next_idx = [rst.argmin()]\n",
    "    else:\n",
    "        next_idx = [idx for idx, val in enumerate(mask) if val]\n",
    "        \n",
    "    return [cords[idx] for idx in next_idx]\n",
    "\n",
    "def process_one_round(current_pos, end, visited):\n",
    "    next_pos = get_direction(current_pos, end)\n",
    "    next_pos = [x for x in next_pos if __serialize(x) not in visited]\n",
    "    next_pos = [x for x in next_pos if __check_valid(x)]\n",
    "    \n",
    "    for cord in next_pos:\n",
    "        visited = add_visited(cord, visited=visited)\n",
    "        \n",
    "    if end in next_pos:\n",
    "        return [end], visited\n",
    "    else:\n",
    "        # print(\"next position:\", next_pos)\n",
    "        if len(next_pos)>1:\n",
    "            next_pos = filter_pos_by_minvalue(MESC*-1, next_pos)\n",
    "            # print(\"MESV:\")\n",
    "            # print([(MESC[x][y], x, y) for x,y in next_pos])\n",
    "        if len(next_pos)>1:\n",
    "            next_pos = filter_pos_by_minvalue(ERV, next_pos)\n",
    "            # print(\"ERV:\")\n",
    "            # print([(ERV[x][y], x, y) for x,y in next_pos])\n",
    "        if len(next_pos)>1:\n",
    "            next_pos = filter_pos_by_mindist(end, next_pos)\n",
    "\n",
    "        return next_pos, visited\n",
    "    \n",
    "def main(start, end):\n",
    "    \n",
    "    visited = add_visited(start, set())\n",
    "    queue = [(start, [start], visited)]\n",
    "    path_pool = []\n",
    "\n",
    "    while queue:\n",
    "        # print(\"queue:\", queue)\n",
    "        current_pos, path, visited = queue.pop()\n",
    "        \n",
    "        if current_pos == end:\n",
    "            path_pool.append(path)\n",
    "            continue\n",
    "        \n",
    "        next_pos, visited_new = process_one_round(current_pos, end, visited)\n",
    "        for cord in next_pos:\n",
    "            path_new = path.copy() + [cord]\n",
    "            item = (cord, path_new, visited_new)\n",
    "            queue.append(item)\n",
    "            \n",
    "    return path_pool\n"
   ]
  },
  {
   "cell_type": "code",
   "execution_count": 163,
   "metadata": {},
   "outputs": [],
   "source": [
    "ERV = pd.read_csv(\"/Users/tuanzai/Desktop/Canada/001.UBC/block_capstone/花姐项目/simple_landscape_analysis/history/2.4.4/案例/erv.csv\").values\n",
    "MESC =  pd.read_csv(\"/Users/tuanzai/Desktop/Canada/001.UBC/block_capstone/花姐项目/simple_landscape_analysis/history/2.4.4/案例/mesc.csv\").values"
   ]
  },
  {
   "cell_type": "code",
   "execution_count": 164,
   "metadata": {},
   "outputs": [
    {
     "name": "stdout",
     "output_type": "stream",
     "text": [
      "==================================================\n",
      "Cordination: [12, 2]  MESV value: 5  ERV value: 2\n",
      "Cordination: [11, 2]  MESV value: 5  ERV value: 3\n",
      "Cordination: [10, 2]  MESV value: 5  ERV value: 4\n",
      "Cordination: [9, 3]  MESV value: 4  ERV value: 7\n",
      "Cordination: [8, 3]  MESV value: 5  ERV value: 4\n",
      "Cordination: [7, 4]  MESV value: 3  ERV value: 5\n",
      "Cordination: [6, 4]  MESV value: 2  ERV value: 10\n",
      "Cordination: [5, 5]  MESV value: 4  ERV value: 3\n",
      "Cordination: [4, 6]  MESV value: 1  ERV value: 4\n",
      "Cordination: [3, 6]  MESV value: 5  ERV value: 7\n",
      "Cordination: [2, 6]  MESV value: 0  ERV value: 5\n",
      "Cordination: [1, 6]  MESV value: 3  ERV value: 4\n",
      "Cordination: [0, 7]  MESV value: 3  ERV value: 3\n",
      "Cordination: [1, 8]  MESV value: 1  ERV value: 7\n",
      "Cordination: [1, 9]  MESV value: 5  ERV value: 3\n"
     ]
    }
   ],
   "source": [
    "start = [12, 2]\n",
    "end = [1, 9]\n",
    "path_pool = main(start, end)\n",
    "\n",
    "for path in path_pool:\n",
    "    print(\"=\"*50)\n",
    "    for i in path:\n",
    "        print(\"Cordination:\", i, \" MESV value:\", MESC[i[0], i[1]], \" ERV value:\", ERV[i[0], i[1]])"
   ]
  },
  {
   "cell_type": "code",
   "execution_count": 165,
   "metadata": {},
   "outputs": [
    {
     "name": "stdout",
     "output_type": "stream",
     "text": [
      "==================================================\n",
      "Cordination: [8, 3]  MESV value: 5  ERV value: 4\n",
      "Cordination: [9, 3]  MESV value: 4  ERV value: 7\n",
      "Cordination: [10, 3]  MESV value: 3  ERV value: 4\n",
      "Cordination: [11, 3]  MESV value: 2  ERV value: 5\n",
      "Cordination: [12, 3]  MESV value: 5  ERV value: 3\n",
      "Cordination: [13, 3]  MESV value: 4  ERV value: 1\n",
      "Cordination: [14, 4]  MESV value: 1  ERV value: 2\n",
      "Cordination: [14, 5]  MESV value: 5  ERV value: 4\n",
      "Cordination: [14, 6]  MESV value: 4  ERV value: 5\n",
      "Cordination: [14, 7]  MESV value: 5  ERV value: 7\n",
      "Cordination: [13, 8]  MESV value: 3  ERV value: 5\n",
      "Cordination: [14, 9]  MESV value: 3  ERV value: 2\n",
      "Cordination: [13, 10]  MESV value: 5  ERV value: 4\n"
     ]
    }
   ],
   "source": [
    "start = [8, 3]\n",
    "end = [13, 10]\n",
    "path_pool = main(start, end)\n",
    "\n",
    "for path in path_pool:\n",
    "    print(\"=\"*50)\n",
    "    for i in path:\n",
    "        print(\"Cordination:\", i, \" MESV value:\", MESC[i[0], i[1]], \" ERV value:\", ERV[i[0], i[1]])"
   ]
  },
  {
   "cell_type": "markdown",
   "metadata": {},
   "source": [
    "✅ 案例三"
   ]
  },
  {
   "cell_type": "code",
   "execution_count": 166,
   "metadata": {},
   "outputs": [
    {
     "name": "stdout",
     "output_type": "stream",
     "text": [
      "==================================================\n",
      "Cordination: [3, 6]  MESV value: 5  ERV value: 7\n",
      "Cordination: [3, 5]  MESV value: 2  ERV value: 5\n",
      "Cordination: [4, 4]  MESV value: 2  ERV value: 7\n",
      "Cordination: [5, 5]  MESV value: 4  ERV value: 3\n",
      "Cordination: [6, 6]  MESV value: 3  ERV value: 8\n",
      "Cordination: [7, 6]  MESV value: 1  ERV value: 1\n",
      "Cordination: [8, 5]  MESV value: 5  ERV value: 7\n",
      "Cordination: [9, 5]  MESV value: 3  ERV value: 4\n",
      "Cordination: [10, 5]  MESV value: 5  ERV value: 2\n",
      "Cordination: [11, 6]  MESV value: 4  ERV value: 2\n",
      "Cordination: [12, 5]  MESV value: 5  ERV value: 5\n"
     ]
    }
   ],
   "source": [
    "start = [3, 6]\n",
    "end = [12, 5]\n",
    "path_pool = main(start, end)\n",
    "\n",
    "for path in path_pool:\n",
    "    print(\"=\"*50)\n",
    "    for i in path:\n",
    "        print(\"Cordination:\", i, \" MESV value:\", MESC[i[0], i[1]], \" ERV value:\", ERV[i[0], i[1]])"
   ]
  },
  {
   "cell_type": "markdown",
   "metadata": {},
   "source": [
    "案例四、不一样，第五步往下面的2走了"
   ]
  },
  {
   "cell_type": "code",
   "execution_count": 167,
   "metadata": {},
   "outputs": [
    {
     "name": "stdout",
     "output_type": "stream",
     "text": [
      "==================================================\n",
      "Cordination: [1, 14]  MESV value: 5  ERV value: 5\n",
      "Cordination: [2, 13]  MESV value: 5  ERV value: 8\n",
      "Cordination: [2, 12]  MESV value: 4  ERV value: 5\n",
      "Cordination: [3, 11]  MESV value: 4  ERV value: 5\n",
      "Cordination: [4, 11]  MESV value: 4  ERV value: 7\n",
      "Cordination: [5, 11]  MESV value: 2  ERV value: 10\n",
      "Cordination: [6, 11]  MESV value: 4  ERV value: 5\n",
      "Cordination: [7, 10]  MESV value: 2  ERV value: 5\n",
      "Cordination: [8, 10]  MESV value: 4  ERV value: 5\n",
      "Cordination: [9, 9]  MESV value: 5  ERV value: 2\n",
      "Cordination: [10, 8]  MESV value: 4  ERV value: 6\n",
      "Cordination: [11, 7]  MESV value: 5  ERV value: 1\n",
      "Cordination: [11, 6]  MESV value: 4  ERV value: 2\n",
      "Cordination: [12, 5]  MESV value: 5  ERV value: 5\n",
      "Cordination: [12, 4]  MESV value: 4  ERV value: 4\n",
      "Cordination: [12, 3]  MESV value: 5  ERV value: 3\n",
      "Cordination: [12, 2]  MESV value: 5  ERV value: 2\n",
      "Cordination: [13, 1]  MESV value: 5  ERV value: 5\n"
     ]
    }
   ],
   "source": [
    "start = [1, 14]\n",
    "end = [13, 1]\n",
    "path_pool = main(start, end)\n",
    "\n",
    "for path in path_pool:\n",
    "    print(\"=\"*50)\n",
    "    for i in path:\n",
    "        print(\"Cordination:\", i, \" MESV value:\", MESC[i[0], i[1]], \" ERV value:\", ERV[i[0], i[1]])"
   ]
  },
  {
   "cell_type": "markdown",
   "metadata": {},
   "source": [
    "✅ 案例五"
   ]
  },
  {
   "cell_type": "code",
   "execution_count": 169,
   "metadata": {},
   "outputs": [
    {
     "name": "stdout",
     "output_type": "stream",
     "text": [
      "==================================================\n",
      "Cordination: [11, 7]  MESV value: 5  ERV value: 1\n",
      "Cordination: [10, 8]  MESV value: 4  ERV value: 6\n",
      "Cordination: [9, 7]  MESV value: 4  ERV value: 1\n",
      "Cordination: [8, 7]  MESV value: 4  ERV value: 8\n",
      "Cordination: [7, 8]  MESV value: 4  ERV value: 6\n",
      "Cordination: [6, 8]  MESV value: 5  ERV value: 10\n",
      "Cordination: [5, 7]  MESV value: 4  ERV value: 7\n",
      "Cordination: [4, 8]  MESV value: 2  ERV value: 5\n",
      "Cordination: [3, 7]  MESV value: 4  ERV value: 1\n"
     ]
    }
   ],
   "source": [
    "start = [11, 7]\n",
    "end = [3, 7]\n",
    "path_pool = main(start, end)\n",
    "\n",
    "for path in path_pool:\n",
    "    print(\"=\"*50)\n",
    "    for i in path:\n",
    "        print(\"Cordination:\", i, \" MESV value:\", MESC[i[0], i[1]], \" ERV value:\", ERV[i[0], i[1]])"
   ]
  },
  {
   "cell_type": "markdown",
   "metadata": {},
   "source": [
    "案例六， 12步之后不一样"
   ]
  },
  {
   "cell_type": "code",
   "execution_count": 170,
   "metadata": {},
   "outputs": [
    {
     "name": "stdout",
     "output_type": "stream",
     "text": [
      "==================================================\n",
      "Cordination: [0, 13]  MESV value: 5  ERV value: 5\n",
      "Cordination: [1, 14]  MESV value: 5  ERV value: 5\n",
      "Cordination: [2, 13]  MESV value: 5  ERV value: 8\n",
      "Cordination: [3, 13]  MESV value: 4  ERV value: 6\n",
      "Cordination: [4, 12]  MESV value: 5  ERV value: 8\n",
      "Cordination: [5, 12]  MESV value: 3  ERV value: 5\n",
      "Cordination: [6, 13]  MESV value: 4  ERV value: 5\n",
      "Cordination: [7, 12]  MESV value: 5  ERV value: 8\n",
      "Cordination: [8, 12]  MESV value: 2  ERV value: 2\n",
      "Cordination: [9, 13]  MESV value: 3  ERV value: 9\n",
      "Cordination: [10, 14]  MESV value: 5  ERV value: 8\n",
      "Cordination: [11, 14]  MESV value: 1  ERV value: 1\n",
      "Cordination: [12, 14]  MESV value: 3  ERV value: 8\n",
      "Cordination: [13, 13]  MESV value: 4  ERV value: 7\n"
     ]
    }
   ],
   "source": [
    "start = [0, 13]\n",
    "end = [13, 13]\n",
    "path_pool = main(start, end)\n",
    "\n",
    "for path in path_pool:\n",
    "    print(\"=\"*50)\n",
    "    for i in path:\n",
    "        print(\"Cordination:\", i, \" MESV value:\", MESC[i[0], i[1]], \" ERV value:\", ERV[i[0], i[1]])"
   ]
  },
  {
   "cell_type": "markdown",
   "metadata": {},
   "source": [
    "✅ 案例七"
   ]
  },
  {
   "cell_type": "code",
   "execution_count": 171,
   "metadata": {},
   "outputs": [
    {
     "name": "stdout",
     "output_type": "stream",
     "text": [
      "==================================================\n",
      "Cordination: [8, 10]  MESV value: 4  ERV value: 5\n",
      "Cordination: [9, 9]  MESV value: 5  ERV value: 2\n",
      "Cordination: [8, 8]  MESV value: 4  ERV value: 9\n",
      "Cordination: [9, 7]  MESV value: 4  ERV value: 1\n",
      "Cordination: [9, 6]  MESV value: 2  ERV value: 2\n",
      "Cordination: [8, 5]  MESV value: 5  ERV value: 7\n"
     ]
    }
   ],
   "source": [
    "start = [8, 10]\n",
    "end = [8, 5]\n",
    "path_pool = main(start, end)\n",
    "\n",
    "for path in path_pool:\n",
    "    print(\"=\"*50)\n",
    "    for i in path:\n",
    "        print(\"Cordination:\", i, \" MESV value:\", MESC[i[0], i[1]], \" ERV value:\", ERV[i[0], i[1]])"
   ]
  },
  {
   "cell_type": "markdown",
   "metadata": {},
   "source": [
    "✅ 案例八"
   ]
  },
  {
   "cell_type": "code",
   "execution_count": 172,
   "metadata": {},
   "outputs": [
    {
     "name": "stdout",
     "output_type": "stream",
     "text": [
      "==================================================\n",
      "Cordination: [1, 2]  MESV value: 5  ERV value: 8\n",
      "Cordination: [0, 3]  MESV value: 3  ERV value: 4\n",
      "Cordination: [1, 4]  MESV value: 2  ERV value: 1\n",
      "Cordination: [1, 5]  MESV value: 2  ERV value: 5\n",
      "Cordination: [0, 6]  MESV value: 4  ERV value: 1\n",
      "Cordination: [0, 7]  MESV value: 3  ERV value: 3\n",
      "Cordination: [1, 8]  MESV value: 1  ERV value: 7\n",
      "Cordination: [1, 9]  MESV value: 5  ERV value: 3\n"
     ]
    }
   ],
   "source": [
    "start = [1, 2]\n",
    "end = [1, 9]\n",
    "path_pool = main(start, end)\n",
    "\n",
    "for path in path_pool:\n",
    "    print(\"=\"*50)\n",
    "    for i in path:\n",
    "        print(\"Cordination:\", i, \" MESV value:\", MESC[i[0], i[1]], \" ERV value:\", ERV[i[0], i[1]])"
   ]
  },
  {
   "cell_type": "code",
   "execution_count": null,
   "metadata": {},
   "outputs": [],
   "source": []
  }
 ],
 "metadata": {
  "interpreter": {
   "hash": "414fe57d044de946bf9d041c0416f862a87762676867e6c6ae283eee01bd4dcc"
  },
  "kernelspec": {
   "display_name": "Python 3.9.12 ('base')",
   "language": "python",
   "name": "python3"
  },
  "language_info": {
   "codemirror_mode": {
    "name": "ipython",
    "version": 3
   },
   "file_extension": ".py",
   "mimetype": "text/x-python",
   "name": "python",
   "nbconvert_exporter": "python",
   "pygments_lexer": "ipython3",
   "version": "3.9.12"
  },
  "orig_nbformat": 4
 },
 "nbformat": 4,
 "nbformat_minor": 2
}
